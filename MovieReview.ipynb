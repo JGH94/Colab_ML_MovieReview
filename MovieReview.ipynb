{
  "nbformat": 4,
  "nbformat_minor": 0,
  "metadata": {
    "colab": {
      "name": "MovieReview.ipynb",
      "provenance": [],
      "authorship_tag": "ABX9TyPFDF/Bo9PpPWE1OSZrjfrt",
      "include_colab_link": true
    },
    "kernelspec": {
      "name": "python3",
      "display_name": "Python 3"
    },
    "language_info": {
      "name": "python"
    },
    "accelerator": "GPU",
    "widgets": {
      "application/vnd.jupyter.widget-state+json": {
        "3f6cc5d2c17f4c29950466555655efe2": {
          "model_module": "@jupyter-widgets/controls",
          "model_name": "HBoxModel",
          "model_module_version": "1.5.0",
          "state": {
            "_view_name": "HBoxView",
            "_dom_classes": [],
            "_model_name": "HBoxModel",
            "_view_module": "@jupyter-widgets/controls",
            "_model_module_version": "1.5.0",
            "_view_count": null,
            "_view_module_version": "1.5.0",
            "box_style": "",
            "layout": "IPY_MODEL_4698e09341284afe99c6230e4d27b511",
            "_model_module": "@jupyter-widgets/controls",
            "children": [
              "IPY_MODEL_3abf145db91b4642bb6968552443fdc0",
              "IPY_MODEL_7545daba268b4560865b4a7db9ff9891",
              "IPY_MODEL_37999fd8b626466386ec7ad50487f92f"
            ]
          }
        },
        "4698e09341284afe99c6230e4d27b511": {
          "model_module": "@jupyter-widgets/base",
          "model_name": "LayoutModel",
          "model_module_version": "1.2.0",
          "state": {
            "_view_name": "LayoutView",
            "grid_template_rows": null,
            "right": null,
            "justify_content": null,
            "_view_module": "@jupyter-widgets/base",
            "overflow": null,
            "_model_module_version": "1.2.0",
            "_view_count": null,
            "flex_flow": null,
            "width": null,
            "min_width": null,
            "border": null,
            "align_items": null,
            "bottom": null,
            "_model_module": "@jupyter-widgets/base",
            "top": null,
            "grid_column": null,
            "overflow_y": null,
            "overflow_x": null,
            "grid_auto_flow": null,
            "grid_area": null,
            "grid_template_columns": null,
            "flex": null,
            "_model_name": "LayoutModel",
            "justify_items": null,
            "grid_row": null,
            "max_height": null,
            "align_content": null,
            "visibility": null,
            "align_self": null,
            "height": null,
            "min_height": null,
            "padding": null,
            "grid_auto_rows": null,
            "grid_gap": null,
            "max_width": null,
            "order": null,
            "_view_module_version": "1.2.0",
            "grid_template_areas": null,
            "object_position": null,
            "object_fit": null,
            "grid_auto_columns": null,
            "margin": null,
            "display": null,
            "left": null
          }
        },
        "3abf145db91b4642bb6968552443fdc0": {
          "model_module": "@jupyter-widgets/controls",
          "model_name": "HTMLModel",
          "model_module_version": "1.5.0",
          "state": {
            "_view_name": "HTMLView",
            "style": "IPY_MODEL_8b5817db321e4f3ab9f07617a1114fcd",
            "_dom_classes": [],
            "description": "",
            "_model_name": "HTMLModel",
            "placeholder": "​",
            "_view_module": "@jupyter-widgets/controls",
            "_model_module_version": "1.5.0",
            "value": "Dl Completed...: 100%",
            "_view_count": null,
            "_view_module_version": "1.5.0",
            "description_tooltip": null,
            "_model_module": "@jupyter-widgets/controls",
            "layout": "IPY_MODEL_9966c7fa5c314e15a6349ee4444232b5"
          }
        },
        "7545daba268b4560865b4a7db9ff9891": {
          "model_module": "@jupyter-widgets/controls",
          "model_name": "FloatProgressModel",
          "model_module_version": "1.5.0",
          "state": {
            "_view_name": "ProgressView",
            "style": "IPY_MODEL_224ae088a957462484b71c4d6050d20d",
            "_dom_classes": [],
            "description": "",
            "_model_name": "FloatProgressModel",
            "bar_style": "success",
            "max": 1,
            "_view_module": "@jupyter-widgets/controls",
            "_model_module_version": "1.5.0",
            "value": 1,
            "_view_count": null,
            "_view_module_version": "1.5.0",
            "orientation": "horizontal",
            "min": 0,
            "description_tooltip": null,
            "_model_module": "@jupyter-widgets/controls",
            "layout": "IPY_MODEL_9c5ed343636343e5b23ed91c5f9fd5f7"
          }
        },
        "37999fd8b626466386ec7ad50487f92f": {
          "model_module": "@jupyter-widgets/controls",
          "model_name": "HTMLModel",
          "model_module_version": "1.5.0",
          "state": {
            "_view_name": "HTMLView",
            "style": "IPY_MODEL_d4f984645e9b420ba62cf18a4dd9498b",
            "_dom_classes": [],
            "description": "",
            "_model_name": "HTMLModel",
            "placeholder": "​",
            "_view_module": "@jupyter-widgets/controls",
            "_model_module_version": "1.5.0",
            "value": " 1/1 [00:02&lt;00:00,  2.67s/ url]",
            "_view_count": null,
            "_view_module_version": "1.5.0",
            "description_tooltip": null,
            "_model_module": "@jupyter-widgets/controls",
            "layout": "IPY_MODEL_660d7c8c358f463584c430ed61b1ba3d"
          }
        },
        "8b5817db321e4f3ab9f07617a1114fcd": {
          "model_module": "@jupyter-widgets/controls",
          "model_name": "DescriptionStyleModel",
          "model_module_version": "1.5.0",
          "state": {
            "_view_name": "StyleView",
            "_model_name": "DescriptionStyleModel",
            "description_width": "",
            "_view_module": "@jupyter-widgets/base",
            "_model_module_version": "1.5.0",
            "_view_count": null,
            "_view_module_version": "1.2.0",
            "_model_module": "@jupyter-widgets/controls"
          }
        },
        "9966c7fa5c314e15a6349ee4444232b5": {
          "model_module": "@jupyter-widgets/base",
          "model_name": "LayoutModel",
          "model_module_version": "1.2.0",
          "state": {
            "_view_name": "LayoutView",
            "grid_template_rows": null,
            "right": null,
            "justify_content": null,
            "_view_module": "@jupyter-widgets/base",
            "overflow": null,
            "_model_module_version": "1.2.0",
            "_view_count": null,
            "flex_flow": null,
            "width": null,
            "min_width": null,
            "border": null,
            "align_items": null,
            "bottom": null,
            "_model_module": "@jupyter-widgets/base",
            "top": null,
            "grid_column": null,
            "overflow_y": null,
            "overflow_x": null,
            "grid_auto_flow": null,
            "grid_area": null,
            "grid_template_columns": null,
            "flex": null,
            "_model_name": "LayoutModel",
            "justify_items": null,
            "grid_row": null,
            "max_height": null,
            "align_content": null,
            "visibility": null,
            "align_self": null,
            "height": null,
            "min_height": null,
            "padding": null,
            "grid_auto_rows": null,
            "grid_gap": null,
            "max_width": null,
            "order": null,
            "_view_module_version": "1.2.0",
            "grid_template_areas": null,
            "object_position": null,
            "object_fit": null,
            "grid_auto_columns": null,
            "margin": null,
            "display": null,
            "left": null
          }
        },
        "224ae088a957462484b71c4d6050d20d": {
          "model_module": "@jupyter-widgets/controls",
          "model_name": "ProgressStyleModel",
          "model_module_version": "1.5.0",
          "state": {
            "_view_name": "StyleView",
            "_model_name": "ProgressStyleModel",
            "description_width": "",
            "_view_module": "@jupyter-widgets/base",
            "_model_module_version": "1.5.0",
            "_view_count": null,
            "_view_module_version": "1.2.0",
            "bar_color": null,
            "_model_module": "@jupyter-widgets/controls"
          }
        },
        "9c5ed343636343e5b23ed91c5f9fd5f7": {
          "model_module": "@jupyter-widgets/base",
          "model_name": "LayoutModel",
          "model_module_version": "1.2.0",
          "state": {
            "_view_name": "LayoutView",
            "grid_template_rows": null,
            "right": null,
            "justify_content": null,
            "_view_module": "@jupyter-widgets/base",
            "overflow": null,
            "_model_module_version": "1.2.0",
            "_view_count": null,
            "flex_flow": null,
            "width": "20px",
            "min_width": null,
            "border": null,
            "align_items": null,
            "bottom": null,
            "_model_module": "@jupyter-widgets/base",
            "top": null,
            "grid_column": null,
            "overflow_y": null,
            "overflow_x": null,
            "grid_auto_flow": null,
            "grid_area": null,
            "grid_template_columns": null,
            "flex": null,
            "_model_name": "LayoutModel",
            "justify_items": null,
            "grid_row": null,
            "max_height": null,
            "align_content": null,
            "visibility": null,
            "align_self": null,
            "height": null,
            "min_height": null,
            "padding": null,
            "grid_auto_rows": null,
            "grid_gap": null,
            "max_width": null,
            "order": null,
            "_view_module_version": "1.2.0",
            "grid_template_areas": null,
            "object_position": null,
            "object_fit": null,
            "grid_auto_columns": null,
            "margin": null,
            "display": null,
            "left": null
          }
        },
        "d4f984645e9b420ba62cf18a4dd9498b": {
          "model_module": "@jupyter-widgets/controls",
          "model_name": "DescriptionStyleModel",
          "model_module_version": "1.5.0",
          "state": {
            "_view_name": "StyleView",
            "_model_name": "DescriptionStyleModel",
            "description_width": "",
            "_view_module": "@jupyter-widgets/base",
            "_model_module_version": "1.5.0",
            "_view_count": null,
            "_view_module_version": "1.2.0",
            "_model_module": "@jupyter-widgets/controls"
          }
        },
        "660d7c8c358f463584c430ed61b1ba3d": {
          "model_module": "@jupyter-widgets/base",
          "model_name": "LayoutModel",
          "model_module_version": "1.2.0",
          "state": {
            "_view_name": "LayoutView",
            "grid_template_rows": null,
            "right": null,
            "justify_content": null,
            "_view_module": "@jupyter-widgets/base",
            "overflow": null,
            "_model_module_version": "1.2.0",
            "_view_count": null,
            "flex_flow": null,
            "width": null,
            "min_width": null,
            "border": null,
            "align_items": null,
            "bottom": null,
            "_model_module": "@jupyter-widgets/base",
            "top": null,
            "grid_column": null,
            "overflow_y": null,
            "overflow_x": null,
            "grid_auto_flow": null,
            "grid_area": null,
            "grid_template_columns": null,
            "flex": null,
            "_model_name": "LayoutModel",
            "justify_items": null,
            "grid_row": null,
            "max_height": null,
            "align_content": null,
            "visibility": null,
            "align_self": null,
            "height": null,
            "min_height": null,
            "padding": null,
            "grid_auto_rows": null,
            "grid_gap": null,
            "max_width": null,
            "order": null,
            "_view_module_version": "1.2.0",
            "grid_template_areas": null,
            "object_position": null,
            "object_fit": null,
            "grid_auto_columns": null,
            "margin": null,
            "display": null,
            "left": null
          }
        }
      }
    }
  },
  "cells": [
    {
      "cell_type": "markdown",
      "metadata": {
        "id": "view-in-github",
        "colab_type": "text"
      },
      "source": [
        "<a href=\"https://colab.research.google.com/github/JGH94/Colab_ML_MovieReview/blob/main/MovieReview.ipynb\" target=\"_parent\"><img src=\"https://colab.research.google.com/assets/colab-badge.svg\" alt=\"Open In Colab\"/></a>"
      ]
    },
    {
      "cell_type": "code",
      "metadata": {
        "id": "A1bTzUbnTM4n"
      },
      "source": [
        "import tensorflow as tf  \n",
        "import tensorflow_datasets as tfds  \n",
        "import matplotlib.pyplot as plt"
      ],
      "execution_count": 1,
      "outputs": []
    },
    {
      "cell_type": "code",
      "metadata": {
        "colab": {
          "base_uri": "https://localhost:8080/",
          "height": 379,
          "referenced_widgets": [
            "3f6cc5d2c17f4c29950466555655efe2",
            "4698e09341284afe99c6230e4d27b511",
            "3abf145db91b4642bb6968552443fdc0",
            "7545daba268b4560865b4a7db9ff9891",
            "37999fd8b626466386ec7ad50487f92f",
            "8b5817db321e4f3ab9f07617a1114fcd",
            "9966c7fa5c314e15a6349ee4444232b5",
            "224ae088a957462484b71c4d6050d20d",
            "9c5ed343636343e5b23ed91c5f9fd5f7",
            "d4f984645e9b420ba62cf18a4dd9498b",
            "660d7c8c358f463584c430ed61b1ba3d"
          ]
        },
        "id": "FAPvjuDVTUHY",
        "outputId": "447450a9-17d9-4023-86b2-8bebae49afaf"
      },
      "source": [
        "Dataset_, Info_ = tfds.load('imdb_reviews/subwords8k', with_info=True, as_supervised=True)  \n",
        "Train_Dataset, Test_Dataset = Dataset_['train'], Dataset_['test']  \n",
        "Encoder_ = Info_.features['text'].encoder \n",
        "print('Size : {}'.format(Encoder_.vocab_size)) "
      ],
      "execution_count": 2,
      "outputs": [
        {
          "output_type": "stream",
          "name": "stderr",
          "text": [
            "WARNING:absl:TFDS datasets with text encoding are deprecated and will be removed in a future version. Instead, you should use the plain text version and tokenize the text using `tensorflow_text` (See: https://www.tensorflow.org/tutorials/tensorflow_text/intro#tfdata_example)\n"
          ]
        },
        {
          "output_type": "stream",
          "name": "stdout",
          "text": [
            "\u001b[1mDownloading and preparing dataset imdb_reviews/subwords8k/1.0.0 (download: 80.23 MiB, generated: Unknown size, total: 80.23 MiB) to /root/tensorflow_datasets/imdb_reviews/subwords8k/1.0.0...\u001b[0m\n"
          ]
        },
        {
          "output_type": "display_data",
          "data": {
            "application/vnd.jupyter.widget-view+json": {
              "model_id": "3f6cc5d2c17f4c29950466555655efe2",
              "version_minor": 0,
              "version_major": 2
            },
            "text/plain": [
              "Dl Completed...: 0 url [00:00, ? url/s]"
            ]
          },
          "metadata": {}
        },
        {
          "output_type": "display_data",
          "data": {
            "application/vnd.jupyter.widget-view+json": {
              "model_id": "7960fa104b5a4502add5f9cfedf49ef2",
              "version_minor": 0,
              "version_major": 2
            },
            "text/plain": [
              "Dl Size...: 0 MiB [00:00, ? MiB/s]"
            ]
          },
          "metadata": {}
        },
        {
          "output_type": "stream",
          "name": "stdout",
          "text": [
            "\n",
            "\n"
          ]
        },
        {
          "output_type": "display_data",
          "data": {
            "application/vnd.jupyter.widget-view+json": {
              "model_id": "4714093e325d47d0bf2aa8117a5d6a05",
              "version_minor": 0,
              "version_major": 2
            },
            "text/plain": [
              "0 examples [00:00, ? examples/s]"
            ]
          },
          "metadata": {}
        },
        {
          "output_type": "stream",
          "name": "stdout",
          "text": [
            "Shuffling and writing examples to /root/tensorflow_datasets/imdb_reviews/subwords8k/1.0.0.incompleteMWUOHE/imdb_reviews-train.tfrecord\n"
          ]
        },
        {
          "output_type": "display_data",
          "data": {
            "application/vnd.jupyter.widget-view+json": {
              "model_id": "d1ebe8095e34499698dd97f37c68969c",
              "version_minor": 0,
              "version_major": 2
            },
            "text/plain": [
              "  0%|          | 0/25000 [00:00<?, ? examples/s]"
            ]
          },
          "metadata": {}
        },
        {
          "output_type": "display_data",
          "data": {
            "application/vnd.jupyter.widget-view+json": {
              "model_id": "51d9a5d536be4b54b5269df75f6daeca",
              "version_minor": 0,
              "version_major": 2
            },
            "text/plain": [
              "0 examples [00:00, ? examples/s]"
            ]
          },
          "metadata": {}
        },
        {
          "output_type": "stream",
          "name": "stdout",
          "text": [
            "Shuffling and writing examples to /root/tensorflow_datasets/imdb_reviews/subwords8k/1.0.0.incompleteMWUOHE/imdb_reviews-test.tfrecord\n"
          ]
        },
        {
          "output_type": "display_data",
          "data": {
            "application/vnd.jupyter.widget-view+json": {
              "model_id": "807a3073ce374c09bd5bdbc724080571",
              "version_minor": 0,
              "version_major": 2
            },
            "text/plain": [
              "  0%|          | 0/25000 [00:00<?, ? examples/s]"
            ]
          },
          "metadata": {}
        },
        {
          "output_type": "display_data",
          "data": {
            "application/vnd.jupyter.widget-view+json": {
              "model_id": "559aa922d30e4a4bb06984d0432c5759",
              "version_minor": 0,
              "version_major": 2
            },
            "text/plain": [
              "0 examples [00:00, ? examples/s]"
            ]
          },
          "metadata": {}
        },
        {
          "output_type": "stream",
          "name": "stdout",
          "text": [
            "Shuffling and writing examples to /root/tensorflow_datasets/imdb_reviews/subwords8k/1.0.0.incompleteMWUOHE/imdb_reviews-unsupervised.tfrecord\n"
          ]
        },
        {
          "output_type": "display_data",
          "data": {
            "application/vnd.jupyter.widget-view+json": {
              "model_id": "5e24cfbee28d4d22a453b3f9d8cf286d",
              "version_minor": 0,
              "version_major": 2
            },
            "text/plain": [
              "  0%|          | 0/50000 [00:00<?, ? examples/s]"
            ]
          },
          "metadata": {}
        },
        {
          "output_type": "stream",
          "name": "stderr",
          "text": [
            "WARNING:absl:Dataset is using deprecated text encoder API which will be removed soon. Please use the plain_text version of the dataset and migrate to `tensorflow_text`.\n"
          ]
        },
        {
          "output_type": "stream",
          "name": "stdout",
          "text": [
            "\u001b[1mDataset imdb_reviews downloaded and prepared to /root/tensorflow_datasets/imdb_reviews/subwords8k/1.0.0. Subsequent calls will reuse this data.\u001b[0m\n",
            "Size : 8185\n"
          ]
        }
      ]
    },
    {
      "cell_type": "code",
      "metadata": {
        "colab": {
          "base_uri": "https://localhost:8080/"
        },
        "id": "I9NFzWcKTYGK",
        "outputId": "7aa916de-acb8-40ed-923d-ffd8fb5a3278"
      },
      "source": [
        "Sample_String = \"Hello WE-CO\" \n",
        "Encode_String = Encoder_.encode(Sample_String) \n",
        "Original_String = Encoder_.decode(Encode_String)   \n",
        "print(Encode_String) \n",
        "print(Original_String)  \n",
        "for index in Encode_String: \n",
        "  print('{} ----> {}'.format(index, Encoder_.decode([index]))) "
      ],
      "execution_count": 3,
      "outputs": [
        {
          "output_type": "stream",
          "name": "stdout",
          "text": [
            "[4025, 222, 6306, 7974, 2341]\n",
            "Hello WE-CO\n",
            "4025 ----> Hell\n",
            "222 ----> o \n",
            "6306 ----> WE\n",
            "7974 ----> -\n",
            "2341 ----> CO\n"
          ]
        }
      ]
    },
    {
      "cell_type": "code",
      "metadata": {
        "id": "-lVbkugxUtCH"
      },
      "source": [
        "Buffer_Size = 10000 \n",
        "Batch_Size = 64  \n",
        "Train_Dataset = Train_Dataset.shuffle(Buffer_Size) \n",
        "Train_Dataset = Train_Dataset.padded_batch(Batch_Size) \n",
        "Test_Dataset = Test_Dataset.padded_batch(Batch_Size)"
      ],
      "execution_count": 4,
      "outputs": []
    },
    {
      "cell_type": "code",
      "metadata": {
        "id": "osAjIijjUzER",
        "outputId": "b500b932-0065-49b1-caa6-ff5535b22de5",
        "colab": {
          "base_uri": "https://localhost:8080/"
        }
      },
      "source": [
        "for x, y in Train_Dataset.take(1): \n",
        "  print(x) \n",
        "  print(y) "
      ],
      "execution_count": 5,
      "outputs": [
        {
          "output_type": "stream",
          "name": "stdout",
          "text": [
            "tf.Tensor(\n",
            "[[  19  175 4183 ...    0    0    0]\n",
            " [  19 2031   23 ...    0    0    0]\n",
            " [  19   32 6751 ...    0    0    0]\n",
            " ...\n",
            " [  12  239    7 ...    0    0    0]\n",
            " [ 298 1369   91 ...    0    0    0]\n",
            " [ 373    6    1 ...    0    0    0]], shape=(64, 1547), dtype=int64)\n",
            "tf.Tensor(\n",
            "[1 1 1 0 0 1 1 1 0 0 0 0 1 0 0 0 0 1 0 1 0 0 0 1 0 0 1 0 1 1 1 0 1 1 1 1 1\n",
            " 1 1 0 0 1 1 0 0 0 0 1 1 1 1 1 0 1 1 0 0 1 1 0 0 0 1 1], shape=(64,), dtype=int64)\n"
          ]
        }
      ]
    },
    {
      "cell_type": "code",
      "metadata": {
        "id": "cVGpUmfKU2MU"
      },
      "source": [
        "model = tf.keras.Sequential([ \n",
        "    tf.keras.layers.Embedding(Encoder_.vocab_size, 64), \n",
        "    tf.keras.layers.Bidirectional(tf.keras.layers.LSTM(64)), \n",
        "    tf.keras.layers.Dense(64, activation='relu'), \n",
        "    tf.keras.layers.Dense(1) \n",
        "    ])"
      ],
      "execution_count": 6,
      "outputs": []
    },
    {
      "cell_type": "code",
      "metadata": {
        "id": "rPh_24W1VMXI",
        "outputId": "8a4fe179-df65-4911-914b-aa40e15d6204",
        "colab": {
          "base_uri": "https://localhost:8080/"
        }
      },
      "source": [
        "Learning_Rate = 1e-4 \n",
        "Epochs = 10 \n",
        "Steps = 30 \n",
        "model.compile(loss=tf.keras.losses.BinaryCrossentropy(from_logits=True),  \n",
        "              optimizer=tf.keras.optimizers.Adam(Learning_Rate), \n",
        "              metrics=['accuracy']) \n",
        "history = model.fit(Train_Dataset, epochs=Epochs, validation_data=Test_Dataset, validation_steps= Steps)"
      ],
      "execution_count": 7,
      "outputs": [
        {
          "output_type": "stream",
          "name": "stdout",
          "text": [
            "Epoch 1/10\n",
            "391/391 [==============================] - 131s 311ms/step - loss: 0.6392 - accuracy: 0.5702 - val_loss: 0.4464 - val_accuracy: 0.7818\n",
            "Epoch 2/10\n",
            "391/391 [==============================] - 120s 305ms/step - loss: 0.3469 - accuracy: 0.8480 - val_loss: 0.3460 - val_accuracy: 0.8609\n",
            "Epoch 3/10\n",
            "391/391 [==============================] - 120s 305ms/step - loss: 0.2497 - accuracy: 0.9035 - val_loss: 0.3416 - val_accuracy: 0.8698\n",
            "Epoch 4/10\n",
            "391/391 [==============================] - 121s 307ms/step - loss: 0.2099 - accuracy: 0.9228 - val_loss: 0.3318 - val_accuracy: 0.8719\n",
            "Epoch 5/10\n",
            "391/391 [==============================] - 119s 302ms/step - loss: 0.1849 - accuracy: 0.9313 - val_loss: 0.3499 - val_accuracy: 0.8714\n",
            "Epoch 6/10\n",
            "391/391 [==============================] - 119s 303ms/step - loss: 0.1638 - accuracy: 0.9420 - val_loss: 0.3700 - val_accuracy: 0.8677\n",
            "Epoch 7/10\n",
            "391/391 [==============================] - 120s 304ms/step - loss: 0.1490 - accuracy: 0.9476 - val_loss: 0.3731 - val_accuracy: 0.8656\n",
            "Epoch 8/10\n",
            "391/391 [==============================] - 120s 305ms/step - loss: 0.1319 - accuracy: 0.9549 - val_loss: 0.4121 - val_accuracy: 0.8599\n",
            "Epoch 9/10\n",
            "391/391 [==============================] - 120s 304ms/step - loss: 0.1314 - accuracy: 0.9555 - val_loss: 0.4152 - val_accuracy: 0.8542\n",
            "Epoch 10/10\n",
            "391/391 [==============================] - 120s 305ms/step - loss: 0.1232 - accuracy: 0.9590 - val_loss: 0.4479 - val_accuracy: 0.8005\n"
          ]
        }
      ]
    },
    {
      "cell_type": "code",
      "metadata": {
        "id": "5CZmNo26VTXC"
      },
      "source": [
        "def Sample_Predic(Sample_String): \n",
        "  encoded_sample_pred_text = Encoder_.encode(Sample_String)  \n",
        "  encoded_sample_pred_text = tf.cast(encoded_sample_pred_text, tf.float32) \n",
        "  predictions = model.predict(tf.expand_dims(encoded_sample_pred_text, 0)) \n",
        "  return(predictions)"
      ],
      "execution_count": 8,
      "outputs": []
    },
    {
      "cell_type": "code",
      "metadata": {
        "id": "fToHvetmaf2Q",
        "outputId": "17844c46-b166-4b12-e1a2-155de71f57e3",
        "colab": {
          "base_uri": "https://localhost:8080/"
        }
      },
      "source": [
        "#긍정리뷰\n",
        "sample_pred_text = ('The movie was perfect') \n",
        "predictions = Sample_Predic(sample_pred_text) \n",
        "print(predictions)"
      ],
      "execution_count": 9,
      "outputs": [
        {
          "output_type": "stream",
          "name": "stdout",
          "text": [
            "[[0.7116385]]\n"
          ]
        }
      ]
    },
    {
      "cell_type": "code",
      "metadata": {
        "id": "8awgWY14akWj",
        "outputId": "ab7e029c-45e0-47f4-d943-3a5f202a8654",
        "colab": {
          "base_uri": "https://localhost:8080/"
        }
      },
      "source": [
        "#부정리뷰\n",
        "sample_pred_text = ('this movie was very worst') \n",
        "predictions = Sample_Predic(sample_pred_text) \n",
        "print(predictions)"
      ],
      "execution_count": 12,
      "outputs": [
        {
          "output_type": "stream",
          "name": "stdout",
          "text": [
            "[[-0.9252117]]\n"
          ]
        }
      ]
    }
  ]
}